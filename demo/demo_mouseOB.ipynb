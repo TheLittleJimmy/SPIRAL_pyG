{
 "cells": [
  {
   "cell_type": "code",
   "execution_count": 3,
   "id": "5eda6332",
   "metadata": {},
   "outputs": [],
   "source": [
    "import os\n",
    "import numpy as np\n",
    "import argparse\n",
    "\n",
    "import pandas as pd\n",
    "from sklearn.decomposition import PCA\n",
    "from operator import itemgetter\n",
    "import random\n",
    "import matplotlib.pyplot as plt\n",
    "import umap.umap_ as umap\n",
    "import time\n",
    "\n",
    "import torch\n",
    "from main import SPIRAL_integration_pyG\n",
    "from pyG_layers import *\n",
    "R_dirs=\"/home/tguo/tguo2/miniconda3/envs/pyg/lib/R\""
   ]
  },
  {
   "cell_type": "code",
   "execution_count": 4,
   "id": "e78ba521",
   "metadata": {},
   "outputs": [],
   "source": [
    "import os\n",
    "os.environ['CUDA_VISIBLE_DEVICES'] = '1'\n",
    "# ############seed#############\n",
    "seed=1234\n",
    "torch.manual_seed(seed)\n",
    "torch.cuda.manual_seed_all(seed)\n",
    "np.random.seed(seed)\n",
    "torch.backends.cudnn.deterministic=True"
   ]
  },
  {
   "cell_type": "code",
   "execution_count": 10,
   "id": "9213b7e7",
   "metadata": {},
   "outputs": [],
   "source": [
    "dirs=\"/data02/tguo/space_batch_effect/mouse_OB/\"\n",
    "samples=[\"BGI\",\"SlideV2\"]\n",
    "SEP=','\n",
    "net_cate='_KNN_'\n",
    "knn=8\n",
    "\n",
    "P_WALK=knn\n",
    "WALK_LEN=1\n",
    "N_WALK_LEN=knn\n",
    "NUM_NEG=knn\n",
    "\n",
    "\n",
    "feat_file=[]\n",
    "edge_file=[]\n",
    "meta_file=[]\n",
    "coord_file=[]\n",
    "flags=''\n",
    "for i in range(len(samples)):\n",
    "    feat_file.append(dirs+\"gtt_input/BGI_SlideV2_10X/\"+str(samples[i])+\"_mat.csv\")\n",
    "    edge_file.append(dirs+\"gtt_input/BGI_SlideV2_10X/\"+str(samples[i])+\"_edge\"+net_cate+str(knn)+\".csv\")\n",
    "    meta_file.append(dirs+\"gtt_input/BGI_SlideV2_10X/\"+str(samples[i])+\"_meta.csv\")\n",
    "    coord_file.append(dirs+\"gtt_input/BGI_SlideV2_10X/\"+str(samples[i])+\"_coord.csv\")\n",
    "    flags=flags+'_'+samples[i]\n",
    "N=pd.read_csv(feat_file[0],header=0,index_col=0).shape[1]\n",
    "M=1"
   ]
  },
  {
   "cell_type": "code",
   "execution_count": 11,
   "id": "e48f1aa1",
   "metadata": {},
   "outputs": [],
   "source": [
    "parser = argparse.ArgumentParser()\n",
    "\n",
    "parser.add_argument('--AEdims', type=list, default=[N,[512],32], help='Dim of encoder.')\n",
    "parser.add_argument('--AEdimsR', type=list, default=[32,[512],N], help='Dim of decoder.')\n",
    "parser.add_argument('--GSdims', type=list, default=[512,32], help='Dim of GraphSAGE.')\n",
    "parser.add_argument('--znoise_dim', type=int, default=4, help='Dim of noise embedding.')\n",
    "parser.add_argument('--CLdims', type=list, default=[4,[],M], help='Dim of classifier.')\n",
    "parser.add_argument('--DIdims', type=list, default=[28,[32,16],M], help='Dim of discriminator.')\n",
    "parser.add_argument('--beta', type=float, default=1.0, help='weight of GraphSAGE.')\n",
    "# parser.add_argument('--beta', type=float, default=0.2, help='weight of GraphSAGE.')\n",
    "parser.add_argument('--agg_class', type=str, default='mean', help='Function of aggregator.')\n",
    "parser.add_argument('--num_samples', type=list, default=[knn,knn], help='number of neighbors to sample.')\n",
    "\n",
    "parser.add_argument('--P_WALK', type=int, default=P_WALK, help='number of walks of random work for postive pairs.')\n",
    "parser.add_argument('--WALK_LEN', type=int, default=WALK_LEN, help='walk length of random work for postive pairs.')\n",
    "parser.add_argument('--N_WALK_LEN', type=int, default=N_WALK_LEN, help='number of walks of random work for negative pairs.')\n",
    "parser.add_argument('--NUM_NEG', type=int, default=NUM_NEG, help='number of negative pairs.')\n",
    "parser.add_argument('--P', type=float, default=1.0, help=' likelihood of immediately revisiting a node in the walk.')\n",
    "parser.add_argument('--Q', type=float, default=1.0, help='Control parameter to interpolate between breadth-first strategy and depth-first strategy.')\n",
    "\n",
    "\n",
    "\n",
    "parser.add_argument('--epochs', type=int, default=100, help='Number of epochs to train.')\n",
    "parser.add_argument('--batch_size', type=int, default=512, help='Size of batches to train.')\n",
    "parser.add_argument('--lr', type=float, default=1e-3, help='Initial learning rate.')\n",
    "parser.add_argument('--weight_decay', type=float, default=5e-4, help='Weight decay.')\n",
    "parser.add_argument('--alpha1', type=float, default=N, help='Weight of decoder loss.')\n",
    "parser.add_argument('--alpha2', type=float, default=1, help='Weight of GraphSAGE loss.')\n",
    "parser.add_argument('--alpha3', type=float, default=1, help='Weight of classifier loss.')\n",
    "parser.add_argument('--alpha4', type=float, default=1, help='Weight of discriminator loss.')\n",
    "parser.add_argument('--lamda', type=float, default=1, help='Weight of GRL.')\n",
    "parser.add_argument('--random_seed', type=float, default=8, help='random seed.')\n",
    "\n",
    "params,unknown=parser.parse_known_args()"
   ]
  },
  {
   "cell_type": "code",
   "execution_count": 12,
   "id": "fb199dca",
   "metadata": {},
   "outputs": [
    {
     "name": "stdout",
     "output_type": "stream",
     "text": [
      "--------------------------------\n",
      "Training.\n",
      "processed: 100: 100%|██████████████████████████████████| 100/100 [2:56:41<00:00, 106.02s/it, AE_loss=0.067, CLAS_loss=0.0699, DISC_loss=0.432, GS_loss=1.22, total_loss=372]\n"
     ]
    }
   ],
   "source": [
    "SPII=SPIRAL_integration_pyG(params,samples,feat_file,edge_file,meta_file)\n",
    "SPII.train()\n",
    "SPII.model.eval()\n",
    "all_embed,ae_out=SPII.model.full_forward(SPII.FEAT[:,:-1], SPII.edge_index,SPII.params.lamda,SPII.de_act,SPII.cl_act)\n",
    "ae_embed,gs_embed,embed=all_embed\n",
    "[x_bar,x]=ae_out\n",
    "embed=embed.cpu().detach()\n",
    "names=['SPIRAL_'+str(i) for i in np.arange(embed.shape[1])]\n",
    "embed1=pd.DataFrame(np.array(embed),index=SPII.meta.index,columns=names)\n",
    "\n",
    "meta=SPII.meta.values"
   ]
  },
  {
   "cell_type": "code",
   "execution_count": null,
   "id": "202e36ca",
   "metadata": {},
   "outputs": [],
   "source": [
    "celltype=meta[:,0]\n",
    "batch=meta[:,1]\n",
    "ul=np.unique(celltype)\n",
    "ub=np.unique(batch)\n",
    "umap_mat=umap.UMAP().fit_transform(embed1.values[:,4:])\n",
    "colour2=['r','g','black','cyan','blue','purple','grey']\n",
    "colour1=['lightcoral','red','tomato','chocolate','darkorange','gold','olive','yellow','yellowgreen','lawngreen','forestgreen','lime',\n",
    "       'cyan','deepskyblue','dodgerblue','royalblue','blue','blueviolet','purple','fuchsia','hotpink','pink','gray','black','teal']\n",
    "f, axs= plt.subplots(1,2,figsize=(20,10))\n",
    "size=20\n",
    "for i in range(len(ul)):\n",
    "    axs[0].scatter(umap_mat[np.where(celltype==ul[i])[0],0],umap_mat[np.where(celltype==ul[i])[0],1],c=colour1[i],s=size)\n",
    "\n",
    "axs[0].set_xlabel(\"umap1\",fontsize=30)\n",
    "axs[0].set_ylabel(\"umap2\",fontsize=30)\n",
    "axs[0].legend(ul,loc=\"best\",fontsize=20,markerscale=4,bbox_to_anchor=(-0.19,1))\n",
    "axs[0].tick_params(axis='both', which='major', labelsize=20)\n",
    "for i in range(len(ub)):\n",
    "    axs[1].scatter(umap_mat[np.where(batch==ub[i])[0],0],umap_mat[np.where(batch==ub[i])[0],1],c=colour2[i],s=size)\n",
    "axs[1].set_xlabel(\"umap1\",fontsize=30)\n",
    "axs[1].legend(ub,loc=\"best\",fontsize=20,markerscale=4,bbox_to_anchor=(1.4,1))\n",
    "axs[1].tick_params(axis='both', which='major', labelsize=20)"
   ]
  }
 ],
 "metadata": {
  "kernelspec": {
   "display_name": "pyG",
   "language": "python",
   "name": "pyg"
  },
  "language_info": {
   "codemirror_mode": {
    "name": "ipython",
    "version": 3
   },
   "file_extension": ".py",
   "mimetype": "text/x-python",
   "name": "python",
   "nbconvert_exporter": "python",
   "pygments_lexer": "ipython3",
   "version": "3.9.16"
  }
 },
 "nbformat": 4,
 "nbformat_minor": 5
}
